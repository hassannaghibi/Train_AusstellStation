{
 "cells": [
  {
   "cell_type": "code",
   "execution_count": 2,
   "outputs": [
    {
     "name": "stdout",
     "text": [
      "start\nfinished\n"
     ],
     "output_type": "stream"
    }
   ],
   "source": [
    "import numpy as np\n",
    "import pandas\n",
    "\n",
    "\n",
    "def main(value, input, export):\n",
    "    values = read_txt_file(input)  # read value from txt file\n",
    "\n",
    "    export_header = [\"First Time (minute)\", \"Second Time (minute)\", \"Arrival Time (minute)\"]\n",
    "    units = np.unique(np.array(values)[:, 2])  # get third columns of array in list and then get unique number of list\n",
    "    writer = pandas.ExcelWriter(export)  # set excel\n",
    "\n",
    "    for unit in units:\n",
    "        result = []\n",
    "        for i in range(len(values)):\n",
    "            if i < len(values) - 1:\n",
    "                if values[i][0] == value:\n",
    "                    if values[i][2] == unit:\n",
    "                        first_time = float(values[i][1])\n",
    "                        second_time = float(values[i + 1][1])\n",
    "                        result.append([\n",
    "                            round(first_time / 60, 2),  # round float num to 0.00\n",
    "                            round(second_time / 60, 2),  # round float num to 0.00\n",
    "                            round((\n",
    "                                      first_time - second_time if first_time > second_time else second_time - first_time) / 60,\n",
    "                                  2)])  # set arrival time\n",
    "        pandas.DataFrame(result, None, export_header).to_excel(writer,\n",
    "                                                               \"unit \" + unit)  # write each unit of arrival times list into specific sheet\n",
    "        writer.save()\n",
    "\n",
    "\n",
    "def read_txt_file(file):\n",
    "    result = []\n",
    "    i = 0\n",
    "    values = open(file, 'r').readlines()\n",
    "    for data in values:\n",
    "        if i == 0:\n",
    "            i += 1\n",
    "        else:\n",
    "            result.append(data.replace('\\n', '').split('\\t'))\n",
    "    return result\n",
    "\n",
    "\n",
    "print(\"start\")\n",
    "url = \"C:/Users/Hassan/Desktop/pythonExport/InputDataAnalysisOne/\"\n",
    "main(\"5445\", url + 'input.txt', url + \"export.xlsx\")  # condition value , input data path , output data path\n",
    "print(\"finished\")\n",
    "\n",
    "\n"
   ],
   "metadata": {
    "collapsed": false,
    "pycharm": {
     "name": "#%%\n",
     "is_executing": false
    }
   }
  }
 ],
 "metadata": {
  "kernelspec": {
   "name": "python3",
   "language": "python",
   "display_name": "Python 3"
  },
  "language_info": {
   "codemirror_mode": {
    "name": "ipython",
    "version": 2
   },
   "file_extension": ".py",
   "mimetype": "text/x-python",
   "name": "python",
   "nbconvert_exporter": "python",
   "pygments_lexer": "ipython2",
   "version": "2.7.6"
  },
  "pycharm": {
   "stem_cell": {
    "cell_type": "raw",
    "source": [],
    "metadata": {
     "collapsed": false
    }
   }
  }
 },
 "nbformat": 4,
 "nbformat_minor": 0
}